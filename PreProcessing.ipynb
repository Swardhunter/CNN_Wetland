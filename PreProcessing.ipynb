{
 "cells": [
  {
   "cell_type": "code",
   "execution_count": 4,
   "metadata": {},
   "outputs": [],
   "source": [
    "import ssl\n",
    "import numpy as np\n",
    "import torch\n",
    "from osgeo import gdal\n",
    "from Functions import PreProcessing_BW\n",
    "torch.set_float32_matmul_precision('high')\n",
    "import glob\n",
    "from multiprocessing import Pool\n",
    "from joblib import Parallel, delayed"
   ]
  },
  {
   "cell_type": "code",
   "execution_count": 3,
   "metadata": {},
   "outputs": [
    {
     "name": "stdout",
     "output_type": "stream",
     "text": [
      "0\n"
     ]
    }
   ],
   "source": [
    "if __name__ == '__main__':\n",
    "    InputRasters_x = 'Path to input Rasters'\n",
    "    InputLabel_y = 'Path to Label Raster'\n",
    "    R1 = glob.glob(rf'{InputRasters_x}/*.tif')\n",
    "    label = rf'{InputLabel_y}/.tif'\n",
    "    print(len(R1))  # Number of rasters found\n",
    "    # Use joblib's Parallel and delayed functions\n",
    "    Parallel(n_jobs=8)(delayed(PreProcessing_BW)(filename, label) for filename in R1)"
   ]
  }
 ],
 "metadata": {
  "kernelspec": {
   "display_name": "Python 3",
   "language": "python",
   "name": "python3"
  },
  "language_info": {
   "codemirror_mode": {
    "name": "ipython",
    "version": 3
   },
   "file_extension": ".py",
   "mimetype": "text/x-python",
   "name": "python",
   "nbconvert_exporter": "python",
   "pygments_lexer": "ipython3",
   "version": "3.10.12"
  },
  "orig_nbformat": 4
 },
 "nbformat": 4,
 "nbformat_minor": 2
}
