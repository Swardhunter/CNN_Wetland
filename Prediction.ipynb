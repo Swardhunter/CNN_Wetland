{
 "cells": [
  {
   "cell_type": "code",
   "execution_count": 3,
   "metadata": {},
   "outputs": [],
   "source": [
    "import glob\n",
    "from concurrent.futures import ProcessPoolExecutor, as_completed\n",
    "import torch\n",
    "from osgeo import gdal, ogr\n",
    "from Functions import Prediction\n",
    "from multiprocessing import Manager\n",
    "torch.backends.cudnn.benchmark = True\n",
    "torch.set_float32_matmul_precision('high')"
   ]
  },
  {
   "cell_type": "code",
   "execution_count": null,
   "metadata": {},
   "outputs": [],
   "source": [
    "if __name__ == \"__main__\":\n",
    "    R1 = glob.glob(rf'./ImageDirectory/**/*.tif', recursive=True)\n",
    "    OP_D = 'Name of Mosiac Raster'\n",
    "    Output = './OutputPath'\n",
    "    Mosaic_Path = 'Location to your output Mosaic'\n",
    "    print(len(R1))\n",
    "    model_chkpt = rf'/CheckPoint/version_4/checkpoints/Efficentnet_b7_Imagenet.ckpt'\n",
    "    available_devices = [0,2]  # List of available CUDA devices\n",
    "    manager = Manager()\n",
    "    device_queue = manager.Queue()\n",
    "    for device in available_devices:\n",
    "        device_queue.put(device)\n",
    "\n",
    "    args = [(R1[i], model_chkpt, rf'{Output}/{OP_D}', device_queue) for i in range(len(R1))]\n",
    "    \n",
    "    with ProcessPoolExecutor(max_workers=2) as executor:\n",
    "        futures = [executor.submit(Prediction, arg) for arg in args]\n",
    "        for future in as_completed(futures):\n",
    "            try:\n",
    "                future.result()\n",
    "            except Exception as e:\n",
    "                print(f\"Error in process: {e}\")\n",
    "                \n",
    "    R2 = glob.glob(rf'{Output}/{OP_D}/*.tif')\n",
    "    gdal.BuildVRT(rf'{OP_D}.vrt', R2)\n",
    "    options = [\"COMPRESS=LZW\"]\n",
    "    mosaic_ds = gdal.Translate(rf'{Mosaic_Path}/{OP_D}.tif', rf'{OP_D}.vrt', creationOptions=options)\n",
    "    mosaic_ds = None"
   ]
  }
 ],
 "metadata": {
  "kernelspec": {
   "display_name": "Python 3",
   "language": "python",
   "name": "python3"
  },
  "language_info": {
   "codemirror_mode": {
    "name": "ipython",
    "version": 3
   },
   "file_extension": ".py",
   "mimetype": "text/x-python",
   "name": "python",
   "nbconvert_exporter": "python",
   "pygments_lexer": "ipython3",
   "version": "3.10.12"
  }
 },
 "nbformat": 4,
 "nbformat_minor": 2
}
